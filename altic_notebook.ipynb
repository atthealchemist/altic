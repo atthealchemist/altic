{
 "cells": [
  {
   "attachments": {},
   "cell_type": "markdown",
   "metadata": {},
   "source": [
    "#### Пример создания RPM Spec на основе параметров (простой способ)"
   ]
  },
  {
   "cell_type": "code",
   "execution_count": null,
   "metadata": {},
   "outputs": [],
   "source": [
    "from altic.rpmspec.lexer import RPMSpec\n",
    "\n",
    "spec = RPMSpec(\n",
    "    name=\"altic\",\n",
    "    version=\"1.0.0\",\n",
    "    packager=\"Alexey Konev <konevas@altlinux.org>\",\n",
    "    requires=[\n",
    "        \"python3\",\n",
    "        \"linux\",\n",
    "        \"some-other-cool-stuff\",\n",
    "    ],\n",
    "    patches=['patch-1.patch', 'patch-2.patch'],\n",
    "    description=[\n",
    "        \"This app developed by me, wahahaha\",\n",
    "        \"Also supports\",\n",
    "        \"multiline comments\"\n",
    "    ],\n",
    "    prep=[\n",
    "        \"#!/bin/bash\",\n",
    "        \"echo \\\"Hello world!\\\"\",\n",
    "    ],\n",
    ")\n",
    "\n",
    "print(spec.serialize())"
   ]
  },
  {
   "attachments": {},
   "cell_type": "markdown",
   "metadata": {},
   "source": [
    "#### Пример пошагового создания RPM Spec (способ посложнее)"
   ]
  },
  {
   "cell_type": "code",
   "execution_count": null,
   "metadata": {},
   "outputs": [],
   "source": [
    "from altic.rpmspec.lexer import RPMSpec\n",
    "\n",
    "\n",
    "spec = RPMSpec()\n",
    "spec.preamble.name.set(\"altic\")\n",
    "spec.preamble.version.set(\"1.0.0\")\n",
    "spec.preamble.packager.set(\"Alexey Konev <konevas@altlinux.org>\")\n",
    "spec.preamble.requires.set([\n",
    "    \"python3\",\n",
    "    \"linux\",\n",
    "    \"some-other-cool-stuff\",\n",
    "])\n",
    "spec.preamble.patches.set(['patch-1.patch', 'patch2.patch'])\n",
    "spec.body.description.set([\n",
    "    \"This app developed by me, wahahaha\",\n",
    "    \"Also supports\",\n",
    "    \"multiline comments\"\n",
    "])\n",
    "spec.body.prep.set([\n",
    "    \"#!/bin/bash\",\n",
    "    \"echo \\\"Hello world!\\\"\",\n",
    "])\n",
    "\n",
    "with open(\"sample.spec\", \"w\") as file:\n",
    "    file.write(spec.serialize())\n"
   ]
  },
  {
   "attachments": {},
   "cell_type": "markdown",
   "metadata": {},
   "source": [
    "#### Пример парсинга RPM Spec из строки"
   ]
  },
  {
   "cell_type": "code",
   "execution_count": null,
   "metadata": {},
   "outputs": [],
   "source": [
    "from altic.rpmspec.parser import RPMSpecParser\n",
    "\n",
    "sample_spec = \"\"\"\n",
    "Name: altic\n",
    "Version: 1.0.0\n",
    "Packager: Alexey Konev <konevas@altlinux.org>\n",
    "Patch0: patch-1.patch\n",
    "Patch1: patch2.patch\n",
    "Requires: python3 linux some-other-cool-stuff\n",
    "\n",
    "\n",
    "%description\n",
    "This app developed by me, wahahaha\n",
    "Also supports\n",
    "multiline comments\n",
    "\n",
    "\n",
    "%prep\n",
    "#!/bin/bash\n",
    "echo \"Hello world!\"\n",
    "\n",
    "%setup\n",
    "make -j16\n",
    "\n",
    "%install\n",
    "make install\n",
    "\n",
    "%changelog\n",
    "Wed 11 01 2022, Alexey Konev <konevas@altlinux.org>\n",
    "- Initial commit\n",
    "\"\"\"\n",
    "\n",
    "p = RPMSpecParser()\n",
    "p.parse(sample_spec)"
   ]
  }
 ],
 "metadata": {
  "kernelspec": {
   "display_name": "Python 3",
   "language": "python",
   "name": "python3"
  },
  "language_info": {
   "codemirror_mode": {
    "name": "ipython",
    "version": 3
   },
   "file_extension": ".py",
   "mimetype": "text/x-python",
   "name": "python",
   "nbconvert_exporter": "python",
   "pygments_lexer": "ipython3",
   "version": "3.9.6"
  },
  "orig_nbformat": 4,
  "vscode": {
   "interpreter": {
    "hash": "31f2aee4e71d21fbe5cf8b01ff0e069b9275f58929596ceb00d14d90e3e16cd6"
   }
  }
 },
 "nbformat": 4,
 "nbformat_minor": 2
}
